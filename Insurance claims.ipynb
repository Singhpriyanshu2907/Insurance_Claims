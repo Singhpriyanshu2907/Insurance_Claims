{
 "cells": [
  {
   "cell_type": "code",
   "execution_count": 1,
   "id": "bef0353a",
   "metadata": {},
   "outputs": [],
   "source": [
    "import numpy as np\n",
    "import pandas as pd\n",
    "import seaborn as sns\n",
    "import datetime as dt\n",
    "from datetime import timedelta\n",
    "import matplotlib.pyplot as plt\n",
    "import scipy.stats as stats\n",
    "import os\n",
    "import re\n",
    "import warnings\n",
    "warnings.filterwarnings(\"ignore\")"
   ]
  },
  {
   "cell_type": "code",
   "execution_count": 2,
   "id": "0f5dcaa7",
   "metadata": {},
   "outputs": [
    {
     "data": {
      "text/plain": [
       "'C:\\\\Users\\\\priya'"
      ]
     },
     "execution_count": 2,
     "metadata": {},
     "output_type": "execute_result"
    }
   ],
   "source": [
    "# Checking the current directory\n",
    "\n",
    "%pwd"
   ]
  },
  {
   "cell_type": "markdown",
   "id": "f24512e9",
   "metadata": {},
   "source": [
    "### Changing the directory"
   ]
  },
  {
   "cell_type": "code",
   "execution_count": 3,
   "id": "86d54285",
   "metadata": {},
   "outputs": [],
   "source": [
    "os.chdir(r'A:\\Analytix\\python projects\\insurance claims (case study 3)')"
   ]
  },
  {
   "cell_type": "markdown",
   "id": "f6da4e77",
   "metadata": {},
   "source": [
    "### Import claims_data.csv and cust_data.csv which is provided to you and combine the two datasets appropriately to create a 360-degree view of the data. Use the same for the subsequent questions."
   ]
  },
  {
   "cell_type": "code",
   "execution_count": 51,
   "id": "0159d11e",
   "metadata": {},
   "outputs": [],
   "source": [
    "# Importing the required datsets\n",
    "\n",
    "claim = pd.read_csv(r'claims.csv')\n",
    "\n",
    "cust = pd.read_csv(r'cust_demographics.csv')"
   ]
  },
  {
   "cell_type": "code",
   "execution_count": 52,
   "id": "5603efe8",
   "metadata": {},
   "outputs": [],
   "source": [
    "# Changing the column name in order to merge the data\n",
    "claim.rename(columns={'customer_id':'CUST_ID'},inplace=True)"
   ]
  },
  {
   "cell_type": "code",
   "execution_count": 53,
   "id": "f0379b86",
   "metadata": {},
   "outputs": [],
   "source": [
    "# Merging both the datsets under \"final_data\"\n",
    "\n",
    "final_data = pd.merge(left=claim,right=cust,how='inner',on='CUST_ID')"
   ]
  },
  {
   "cell_type": "markdown",
   "id": "4eb58160",
   "metadata": {},
   "source": [
    "### Perform a data audit for the datatypes and find out if there are any mismatch within the current datatypes of the columns and their business significance."
   ]
  },
  {
   "cell_type": "code",
   "execution_count": 7,
   "id": "104f7d36",
   "metadata": {},
   "outputs": [
    {
     "data": {
      "text/html": [
       "<div>\n",
       "<style scoped>\n",
       "    .dataframe tbody tr th:only-of-type {\n",
       "        vertical-align: middle;\n",
       "    }\n",
       "\n",
       "    .dataframe tbody tr th {\n",
       "        vertical-align: top;\n",
       "    }\n",
       "\n",
       "    .dataframe thead th {\n",
       "        text-align: right;\n",
       "    }\n",
       "</style>\n",
       "<table border=\"1\" class=\"dataframe\">\n",
       "  <thead>\n",
       "    <tr style=\"text-align: right;\">\n",
       "      <th></th>\n",
       "      <th>claim_id</th>\n",
       "      <th>CUST_ID</th>\n",
       "      <th>incident_cause</th>\n",
       "      <th>claim_date</th>\n",
       "      <th>claim_area</th>\n",
       "      <th>police_report</th>\n",
       "      <th>claim_type</th>\n",
       "      <th>claim_amount</th>\n",
       "      <th>total_policy_claims</th>\n",
       "      <th>fraudulent</th>\n",
       "      <th>gender</th>\n",
       "      <th>DateOfBirth</th>\n",
       "      <th>State</th>\n",
       "      <th>Contact</th>\n",
       "      <th>Segment</th>\n",
       "    </tr>\n",
       "  </thead>\n",
       "  <tbody>\n",
       "    <tr>\n",
       "      <th>0</th>\n",
       "      <td>54004764</td>\n",
       "      <td>21868593</td>\n",
       "      <td>Driver error</td>\n",
       "      <td>11/27/2017</td>\n",
       "      <td>Auto</td>\n",
       "      <td>No</td>\n",
       "      <td>Material only</td>\n",
       "      <td>$2,980</td>\n",
       "      <td>1.0</td>\n",
       "      <td>No</td>\n",
       "      <td>Female</td>\n",
       "      <td>12-Jan-79</td>\n",
       "      <td>VT</td>\n",
       "      <td>789-916-8172</td>\n",
       "      <td>Platinum</td>\n",
       "    </tr>\n",
       "    <tr>\n",
       "      <th>1</th>\n",
       "      <td>33985796</td>\n",
       "      <td>75740424</td>\n",
       "      <td>Crime</td>\n",
       "      <td>10/3/2018</td>\n",
       "      <td>Home</td>\n",
       "      <td>Unknown</td>\n",
       "      <td>Material only</td>\n",
       "      <td>$2,980</td>\n",
       "      <td>3.0</td>\n",
       "      <td>No</td>\n",
       "      <td>Female</td>\n",
       "      <td>13-Jan-70</td>\n",
       "      <td>ME</td>\n",
       "      <td>265-543-1264</td>\n",
       "      <td>Silver</td>\n",
       "    </tr>\n",
       "    <tr>\n",
       "      <th>2</th>\n",
       "      <td>53522022</td>\n",
       "      <td>30308357</td>\n",
       "      <td>Other driver error</td>\n",
       "      <td>2/2/2018</td>\n",
       "      <td>Auto</td>\n",
       "      <td>No</td>\n",
       "      <td>Material only</td>\n",
       "      <td>$3,369.50</td>\n",
       "      <td>1.0</td>\n",
       "      <td>Yes</td>\n",
       "      <td>Female</td>\n",
       "      <td>11-Mar-84</td>\n",
       "      <td>TN</td>\n",
       "      <td>798-631-4758</td>\n",
       "      <td>Silver</td>\n",
       "    </tr>\n",
       "    <tr>\n",
       "      <th>3</th>\n",
       "      <td>63017412</td>\n",
       "      <td>30308357</td>\n",
       "      <td>Driver error</td>\n",
       "      <td>4/4/2018</td>\n",
       "      <td>Auto</td>\n",
       "      <td>No</td>\n",
       "      <td>Material only</td>\n",
       "      <td>$1,950</td>\n",
       "      <td>6.0</td>\n",
       "      <td>No</td>\n",
       "      <td>Female</td>\n",
       "      <td>11-Mar-84</td>\n",
       "      <td>TN</td>\n",
       "      <td>798-631-4758</td>\n",
       "      <td>Silver</td>\n",
       "    </tr>\n",
       "    <tr>\n",
       "      <th>4</th>\n",
       "      <td>13015401</td>\n",
       "      <td>47830476</td>\n",
       "      <td>Natural causes</td>\n",
       "      <td>6/17/2018</td>\n",
       "      <td>Auto</td>\n",
       "      <td>No</td>\n",
       "      <td>Material only</td>\n",
       "      <td>$1,680</td>\n",
       "      <td>1.0</td>\n",
       "      <td>No</td>\n",
       "      <td>Female</td>\n",
       "      <td>01-May-86</td>\n",
       "      <td>MA</td>\n",
       "      <td>413-187-7945</td>\n",
       "      <td>Silver</td>\n",
       "    </tr>\n",
       "  </tbody>\n",
       "</table>\n",
       "</div>"
      ],
      "text/plain": [
       "   claim_id   CUST_ID      incident_cause  claim_date claim_area  \\\n",
       "0  54004764  21868593        Driver error  11/27/2017       Auto   \n",
       "1  33985796  75740424               Crime   10/3/2018       Home   \n",
       "2  53522022  30308357  Other driver error    2/2/2018       Auto   \n",
       "3  63017412  30308357        Driver error    4/4/2018       Auto   \n",
       "4  13015401  47830476      Natural causes   6/17/2018       Auto   \n",
       "\n",
       "  police_report     claim_type claim_amount  total_policy_claims fraudulent  \\\n",
       "0            No  Material only      $2,980                   1.0         No   \n",
       "1       Unknown  Material only      $2,980                   3.0         No   \n",
       "2            No  Material only   $3,369.50                   1.0        Yes   \n",
       "3            No  Material only      $1,950                   6.0         No   \n",
       "4            No  Material only      $1,680                   1.0         No   \n",
       "\n",
       "   gender DateOfBirth State       Contact   Segment  \n",
       "0  Female   12-Jan-79    VT  789-916-8172  Platinum  \n",
       "1  Female   13-Jan-70    ME  265-543-1264    Silver  \n",
       "2  Female   11-Mar-84    TN  798-631-4758    Silver  \n",
       "3  Female   11-Mar-84    TN  798-631-4758    Silver  \n",
       "4  Female   01-May-86    MA  413-187-7945    Silver  "
      ]
     },
     "execution_count": 7,
     "metadata": {},
     "output_type": "execute_result"
    }
   ],
   "source": [
    "final_data.head()"
   ]
  },
  {
   "cell_type": "code",
   "execution_count": 8,
   "id": "fe93e8c5",
   "metadata": {},
   "outputs": [
    {
     "data": {
      "text/plain": [
       "claim_id                0\n",
       "CUST_ID                 0\n",
       "incident_cause          0\n",
       "claim_date              0\n",
       "claim_area              0\n",
       "police_report           0\n",
       "claim_type              0\n",
       "claim_amount           65\n",
       "total_policy_claims    10\n",
       "fraudulent              0\n",
       "gender                  0\n",
       "DateOfBirth             0\n",
       "State                   0\n",
       "Contact                 0\n",
       "Segment                 0\n",
       "dtype: int64"
      ]
     },
     "execution_count": 8,
     "metadata": {},
     "output_type": "execute_result"
    }
   ],
   "source": [
    "final_data.isnull().sum()"
   ]
  },
  {
   "cell_type": "code",
   "execution_count": 9,
   "id": "520ea70a",
   "metadata": {},
   "outputs": [
    {
     "name": "stdout",
     "output_type": "stream",
     "text": [
      "<class 'pandas.core.frame.DataFrame'>\n",
      "Int64Index: 1085 entries, 0 to 1084\n",
      "Data columns (total 15 columns):\n",
      " #   Column               Non-Null Count  Dtype  \n",
      "---  ------               --------------  -----  \n",
      " 0   claim_id             1085 non-null   int64  \n",
      " 1   CUST_ID              1085 non-null   int64  \n",
      " 2   incident_cause       1085 non-null   object \n",
      " 3   claim_date           1085 non-null   object \n",
      " 4   claim_area           1085 non-null   object \n",
      " 5   police_report        1085 non-null   object \n",
      " 6   claim_type           1085 non-null   object \n",
      " 7   claim_amount         1020 non-null   object \n",
      " 8   total_policy_claims  1075 non-null   float64\n",
      " 9   fraudulent           1085 non-null   object \n",
      " 10  gender               1085 non-null   object \n",
      " 11  DateOfBirth          1085 non-null   object \n",
      " 12  State                1085 non-null   object \n",
      " 13  Contact              1085 non-null   object \n",
      " 14  Segment              1085 non-null   object \n",
      "dtypes: float64(1), int64(2), object(12)\n",
      "memory usage: 135.6+ KB\n"
     ]
    }
   ],
   "source": [
    "final_data.info()"
   ]
  },
  {
   "cell_type": "markdown",
   "id": "cf47e497",
   "metadata": {},
   "source": [
    "### Convert the column claim_amount to numeric. Use the appropriate modules/attributes to remove the $ sign."
   ]
  },
  {
   "cell_type": "code",
   "execution_count": 10,
   "id": "4f5928b1",
   "metadata": {},
   "outputs": [],
   "source": [
    "# Removing the unwanted characters & converting it to numeric type.\n",
    "final_data['claim_amount']=final_data['claim_amount'].str.replace('$',\"\").str.replace(',',\"\").astype('float')"
   ]
  },
  {
   "cell_type": "markdown",
   "id": "60e6e9f4",
   "metadata": {},
   "source": [
    "### Of all the injury claims, some of them have gone unreported with the police. Create an alert flag (1,0) for all such claims."
   ]
  },
  {
   "cell_type": "code",
   "execution_count": 54,
   "id": "8c63463a",
   "metadata": {},
   "outputs": [],
   "source": [
    "# creating a function \"Encoder\"\n",
    "def encoder (x):\n",
    "    if x.police_report == 'No':\n",
    "        return '0'\n",
    "    elif x.police_report == 'Unknown':\n",
    "        return '1'\n",
    "    else :\n",
    "        return '2'"
   ]
  },
  {
   "cell_type": "code",
   "execution_count": 55,
   "id": "3ffd64f9",
   "metadata": {},
   "outputs": [],
   "source": [
    "# Applying the function Encoder to convert strings \"No\", \"Unknown\" & \"Yes\" to \"0\", \"1\" & \"2\"\n",
    "final_data['flag'] = final_data.apply(encoder,axis=1)"
   ]
  },
  {
   "cell_type": "code",
   "execution_count": 56,
   "id": "feb505a4",
   "metadata": {},
   "outputs": [],
   "source": [
    "# Removing the unwnated columns\n",
    "final_data.drop(columns=['police_report'],inplace=True)"
   ]
  },
  {
   "cell_type": "markdown",
   "id": "b9b602c5",
   "metadata": {},
   "source": [
    "### One customer can claim for insurance more than once and in each claim, multiple categories of claims can be involved. However, customer ID should remain unique. Retain the most recent observation and delete any duplicated records in the data based on the customer ID column."
   ]
  },
  {
   "cell_type": "code",
   "execution_count": 14,
   "id": "f911f560",
   "metadata": {},
   "outputs": [],
   "source": [
    "# Removing the duplicates \n",
    "final_data.drop_duplicates(subset='CUST_ID',keep='first',inplace=True)"
   ]
  },
  {
   "cell_type": "markdown",
   "id": "0c2d5e57",
   "metadata": {},
   "source": [
    "### Check for missing values and impute the missing values with an appropriate value. (mean for continuous and mode for categorical)"
   ]
  },
  {
   "cell_type": "code",
   "execution_count": 15,
   "id": "1382814d",
   "metadata": {},
   "outputs": [],
   "source": [
    "# Reolacing the Null values by Mean fo continious & by Mode for categorical \n",
    "for col in final_data.columns:\n",
    "    if final_data[col].dtype == 'object':\n",
    "        final_data[col].fillna(final_data[col].mode()[0], inplace=True)\n",
    "    else:\n",
    "        final_data[col].fillna(final_data[col].mean(), inplace=True)"
   ]
  },
  {
   "cell_type": "markdown",
   "id": "c299cd0e",
   "metadata": {},
   "source": [
    "### Calculate the age of customers in years. Based on the age, categorize the customers according to the below criteria\n",
    "Children < 18\n",
    "Youth 18-30\n",
    "Adult 30-60\n",
    "Senior > 60"
   ]
  },
  {
   "cell_type": "code",
   "execution_count": 16,
   "id": "b99c192c",
   "metadata": {},
   "outputs": [],
   "source": [
    "# Converting column to datetime format\n",
    "final_data['DateOfBirth'] = pd.to_datetime(final_data.DateOfBirth,format=\"%d-%b-%y\")"
   ]
  },
  {
   "cell_type": "code",
   "execution_count": 17,
   "id": "61dbb8ab",
   "metadata": {},
   "outputs": [],
   "source": [
    "final_data['DateOfBirth'] = np.where(final_data['DateOfBirth'].dt.year > 2000,\n",
    "                        final_data['DateOfBirth'] - pd.offsets.DateOffset(years=100), final_data['DateOfBirth'])"
   ]
  },
  {
   "cell_type": "code",
   "execution_count": 18,
   "id": "a4307d72",
   "metadata": {},
   "outputs": [],
   "source": [
    "curr = pd.to_datetime('today').year"
   ]
  },
  {
   "cell_type": "code",
   "execution_count": 19,
   "id": "e2948d86",
   "metadata": {},
   "outputs": [],
   "source": [
    "year = pd.DatetimeIndex(final_data['DateOfBirth']).year"
   ]
  },
  {
   "cell_type": "code",
   "execution_count": 20,
   "id": "6c208125",
   "metadata": {},
   "outputs": [],
   "source": [
    "# Creating the Age column\n",
    "final_data['Age'] = curr - year"
   ]
  },
  {
   "cell_type": "code",
   "execution_count": 21,
   "id": "d59dba5c",
   "metadata": {},
   "outputs": [],
   "source": [
    "# creating a column by the name Age_group & dividing the customers accordingly\n",
    "bins = [0, 18, 30, 60, 90]\n",
    "labels = ['Children', 'Youth', 'Adult', 'Senior']\n",
    "final_data['Age_group'] = pd.cut(final_data.Age, bins, labels = labels,include_lowest = True)"
   ]
  },
  {
   "cell_type": "markdown",
   "id": "785dc34f",
   "metadata": {},
   "source": [
    "### What is the average amount claimed by the customers from various segments?"
   ]
  },
  {
   "cell_type": "code",
   "execution_count": 22,
   "id": "0da505d7",
   "metadata": {},
   "outputs": [
    {
     "data": {
      "text/html": [
       "<div>\n",
       "<style scoped>\n",
       "    .dataframe tbody tr th:only-of-type {\n",
       "        vertical-align: middle;\n",
       "    }\n",
       "\n",
       "    .dataframe tbody tr th {\n",
       "        vertical-align: top;\n",
       "    }\n",
       "\n",
       "    .dataframe thead th {\n",
       "        text-align: right;\n",
       "    }\n",
       "</style>\n",
       "<table border=\"1\" class=\"dataframe\">\n",
       "  <thead>\n",
       "    <tr style=\"text-align: right;\">\n",
       "      <th></th>\n",
       "      <th>mean</th>\n",
       "    </tr>\n",
       "    <tr>\n",
       "      <th>Segment</th>\n",
       "      <th></th>\n",
       "    </tr>\n",
       "  </thead>\n",
       "  <tbody>\n",
       "    <tr>\n",
       "      <th>Gold</th>\n",
       "      <td>12756.479697</td>\n",
       "    </tr>\n",
       "    <tr>\n",
       "      <th>Platinum</th>\n",
       "      <td>12369.304648</td>\n",
       "    </tr>\n",
       "    <tr>\n",
       "      <th>Silver</th>\n",
       "      <td>12269.434851</td>\n",
       "    </tr>\n",
       "  </tbody>\n",
       "</table>\n",
       "</div>"
      ],
      "text/plain": [
       "                  mean\n",
       "Segment               \n",
       "Gold      12756.479697\n",
       "Platinum  12369.304648\n",
       "Silver    12269.434851"
      ]
     },
     "execution_count": 22,
     "metadata": {},
     "output_type": "execute_result"
    }
   ],
   "source": [
    "final_data.groupby(by='Segment')['claim_amount'].agg({'mean'})"
   ]
  },
  {
   "cell_type": "markdown",
   "id": "5d766dc2",
   "metadata": {},
   "source": [
    "### What is the total claim amount based on incident cause for all the claims that have been done at least 20 days prior to 1st of October, 2018."
   ]
  },
  {
   "cell_type": "code",
   "execution_count": 23,
   "id": "1331cea4",
   "metadata": {},
   "outputs": [],
   "source": [
    "# Converting the column to datetime format\n",
    "final_data['claim_date'] = pd.to_datetime(final_data.claim_date)"
   ]
  },
  {
   "cell_type": "code",
   "execution_count": 24,
   "id": "37a7714a",
   "metadata": {},
   "outputs": [],
   "source": [
    "# Getting the date atleats 20 days prior \n",
    "time = pd.to_datetime('2018-10-1') - timedelta(days=20)"
   ]
  },
  {
   "cell_type": "code",
   "execution_count": 25,
   "id": "c7d6895c",
   "metadata": {},
   "outputs": [],
   "source": [
    "# Getting the data under \"sorted_data\"\n",
    "sorted_data = final_data.loc[final_data.claim_date < time]"
   ]
  },
  {
   "cell_type": "code",
   "execution_count": 26,
   "id": "c5b8437c",
   "metadata": {},
   "outputs": [
    {
     "data": {
      "text/html": [
       "<div>\n",
       "<style scoped>\n",
       "    .dataframe tbody tr th:only-of-type {\n",
       "        vertical-align: middle;\n",
       "    }\n",
       "\n",
       "    .dataframe tbody tr th {\n",
       "        vertical-align: top;\n",
       "    }\n",
       "\n",
       "    .dataframe thead th {\n",
       "        text-align: right;\n",
       "    }\n",
       "</style>\n",
       "<table border=\"1\" class=\"dataframe\">\n",
       "  <thead>\n",
       "    <tr style=\"text-align: right;\">\n",
       "      <th></th>\n",
       "      <th>sum</th>\n",
       "    </tr>\n",
       "    <tr>\n",
       "      <th>incident_cause</th>\n",
       "      <th></th>\n",
       "    </tr>\n",
       "  </thead>\n",
       "  <tbody>\n",
       "    <tr>\n",
       "      <th>Crime</th>\n",
       "      <td>724462.49</td>\n",
       "    </tr>\n",
       "    <tr>\n",
       "      <th>Driver error</th>\n",
       "      <td>3264285.98</td>\n",
       "    </tr>\n",
       "    <tr>\n",
       "      <th>Natural causes</th>\n",
       "      <td>1312705.99</td>\n",
       "    </tr>\n",
       "    <tr>\n",
       "      <th>Other causes</th>\n",
       "      <td>3725038.47</td>\n",
       "    </tr>\n",
       "    <tr>\n",
       "      <th>Other driver error</th>\n",
       "      <td>3318806.48</td>\n",
       "    </tr>\n",
       "  </tbody>\n",
       "</table>\n",
       "</div>"
      ],
      "text/plain": [
       "                          sum\n",
       "incident_cause               \n",
       "Crime               724462.49\n",
       "Driver error       3264285.98\n",
       "Natural causes     1312705.99\n",
       "Other causes       3725038.47\n",
       "Other driver error 3318806.48"
      ]
     },
     "execution_count": 26,
     "metadata": {},
     "output_type": "execute_result"
    }
   ],
   "source": [
    "# Method 1\n",
    "aggregated = sorted_data.groupby(by='incident_cause')['claim_amount'].agg({'sum'})\n",
    "\n",
    "pd.options.display.float_format = '{:.2f}'.format\n",
    "\n",
    "aggregated"
   ]
  },
  {
   "cell_type": "code",
   "execution_count": 27,
   "id": "4a6a8f62",
   "metadata": {},
   "outputs": [
    {
     "data": {
      "text/plain": [
       "incident_cause\n",
       "Crime                 724462.49\n",
       "Driver error         3264285.98\n",
       "Natural causes       1312705.99\n",
       "Other causes         3725038.47\n",
       "Other driver error   3318806.48\n",
       "Name: claim_amount, dtype: float64"
      ]
     },
     "execution_count": 27,
     "metadata": {},
     "output_type": "execute_result"
    }
   ],
   "source": [
    "# Method 2 \n",
    "final_data.loc[final_data.claim_date < time].groupby(by='incident_cause')['claim_amount'].sum()"
   ]
  },
  {
   "cell_type": "markdown",
   "id": "9f2673ab",
   "metadata": {},
   "source": [
    "### How many adults from TX, DE and AK claimed insurance for driver related issues and causes?"
   ]
  },
  {
   "cell_type": "code",
   "execution_count": 28,
   "id": "11b66421",
   "metadata": {},
   "outputs": [
    {
     "data": {
      "text/plain": [
       "State\n",
       "AK     8\n",
       "DE    10\n",
       "TX     9\n",
       "Name: Age_group, dtype: int64"
      ]
     },
     "execution_count": 28,
     "metadata": {},
     "output_type": "execute_result"
    }
   ],
   "source": [
    "final_data.loc[(final_data['Age_group'] == 'Adult')\n",
    "    & (final_data['State'].isin(['TX', 'DE','AK']))\n",
    "        & (final_data.incident_cause.str.lower().str.contains(\"driver\"))].groupby(by='State')['Age_group'].count()"
   ]
  },
  {
   "cell_type": "markdown",
   "id": "4c88fda0",
   "metadata": {},
   "source": [
    "### Draw a pie chart between the aggregated value of claim amount based on gender and segment. Represent the claim amount as a percentage on the pie chart."
   ]
  },
  {
   "cell_type": "code",
   "execution_count": 29,
   "id": "23b98b4a",
   "metadata": {},
   "outputs": [
    {
     "data": {
      "image/png": "[encoded data removed]",
      "text/plain": [
       "<Figure size 1440x720 with 3 Axes>"
      ]
     },
     "metadata": {},
     "output_type": "display_data"
    },
    {
     "data": {
      "text/html": [
       "<div>\n",
       "<style scoped>\n",
       "    .dataframe tbody tr th:only-of-type {\n",
       "        vertical-align: middle;\n",
       "    }\n",
       "\n",
       "    .dataframe tbody tr th {\n",
       "        vertical-align: top;\n",
       "    }\n",
       "\n",
       "    .dataframe thead th {\n",
       "        text-align: right;\n",
       "    }\n",
       "</style>\n",
       "<table border=\"1\" class=\"dataframe\">\n",
       "  <thead>\n",
       "    <tr style=\"text-align: right;\">\n",
       "      <th>Segment</th>\n",
       "      <th>Gold</th>\n",
       "      <th>Platinum</th>\n",
       "      <th>Silver</th>\n",
       "    </tr>\n",
       "    <tr>\n",
       "      <th>gender</th>\n",
       "      <th></th>\n",
       "      <th></th>\n",
       "      <th></th>\n",
       "    </tr>\n",
       "  </thead>\n",
       "  <tbody>\n",
       "    <tr>\n",
       "      <th>Female</th>\n",
       "      <td>2109763.49</td>\n",
       "      <td>2369503.49</td>\n",
       "      <td>1898558.48</td>\n",
       "    </tr>\n",
       "    <tr>\n",
       "      <th>Male</th>\n",
       "      <td>2622890.48</td>\n",
       "      <td>2095815.49</td>\n",
       "      <td>2346665.98</td>\n",
       "    </tr>\n",
       "  </tbody>\n",
       "</table>\n",
       "</div>"
      ],
      "text/plain": [
       "Segment       Gold   Platinum     Silver\n",
       "gender                                  \n",
       "Female  2109763.49 2369503.49 1898558.48\n",
       "Male    2622890.48 2095815.49 2346665.98"
      ]
     },
     "execution_count": 29,
     "metadata": {},
     "output_type": "execute_result"
    }
   ],
   "source": [
    "# Aggregating the data using crosstab\n",
    "agg_data = pd.crosstab(final_data.gender,final_data.Segment,values=final_data.claim_amount,aggfunc='sum')\n",
    "\n",
    "# ploting the pie chart\n",
    "agg_data.plot(kind='pie',autopct=\"%1.0f%%\",figsize=(20,10),subplots=True)\n",
    "\n",
    "plt.show()\n",
    "\n",
    "agg_data"
   ]
  },
  {
   "cell_type": "markdown",
   "id": "02608a9e",
   "metadata": {},
   "source": [
    "### Among males and females, which gender had claimed the most for any type of driver related issues? E.g. This metric can be compared using a bar chart"
   ]
  },
  {
   "cell_type": "code",
   "execution_count": 30,
   "id": "a136a678",
   "metadata": {},
   "outputs": [
    {
     "data": {
      "image/png": "[encoded data removed]",
      "text/plain": [
       "<Figure size 720x360 with 1 Axes>"
      ]
     },
     "metadata": {
      "needs_background": "light"
     },
     "output_type": "display_data"
    }
   ],
   "source": [
    "# Aggregating the data under \"claim\"\n",
    "claim = final_data.loc[(final_data.incident_cause.str.lower().str.contains(\"driver\"))].groupby(by='gender')['gender'].count()\n",
    "\n",
    "# Changing the color of the plot\n",
    "ax = plt.axes()\n",
    "ax.set_facecolor(\"papayawhip\")\n",
    "\n",
    "# Creating the plot\n",
    "Total_sale = claim.plot(kind='bar',figsize=(10,5),width=0.5)\n",
    "\n",
    "y=['{:,.0f}'.format(x) for x in Total_sale.get_yticks()]\n",
    "Total_sale.set_yticklabels(y)\n",
    "\n",
    "plt.ylabel('count of claim')\n",
    "plt.title('Gender wise claim for Driver related issue')\n",
    "\n",
    "plt.show()"
   ]
  },
  {
   "cell_type": "markdown",
   "id": "2d4fc41c",
   "metadata": {},
   "source": [
    "### Which age group had the maximum fraudulent policy claims? Visualize it on a bar chart."
   ]
  },
  {
   "cell_type": "code",
   "execution_count": 31,
   "id": "4d4d00b2",
   "metadata": {},
   "outputs": [
    {
     "data": {
      "image/png": "[encoded data removed]",
      "text/plain": [
       "<Figure size 432x288 with 1 Axes>"
      ]
     },
     "metadata": {
      "needs_background": "light"
     },
     "output_type": "display_data"
    }
   ],
   "source": [
    "# Aggregating the data under \"frauds\"\n",
    "frauds = final_data.loc[final_data['fraudulent'] == 'Yes'].groupby(by='Age_group')['fraudulent'].count().reset_index()\n",
    "\n",
    "# Changing the color of the plot\n",
    "ax = plt.axes()\n",
    "ax.set_facecolor(\"lightyellow\")\n",
    "\n",
    "# Creating the plot\n",
    "sns.barplot(data=frauds,x='Age_group',y='fraudulent')\n",
    "\n",
    "plt.title('Fradulents count by Age group')\n",
    "\n",
    "plt.show()\n"
   ]
  },
  {
   "cell_type": "markdown",
   "id": "b0ad665f",
   "metadata": {},
   "source": [
    "### Visualize the monthly trend of the total amount that has been claimed by the customers. Ensure that on the “month” axis, the month is in a chronological order not alphabetical order."
   ]
  },
  {
   "cell_type": "code",
   "execution_count": 32,
   "id": "ba7c4067",
   "metadata": {},
   "outputs": [
    {
     "data": {
      "image/png": "[encoded data removed]",
      "text/plain": [
       "<Figure size 1080x504 with 1 Axes>"
      ]
     },
     "metadata": {
      "needs_background": "light"
     },
     "output_type": "display_data"
    }
   ],
   "source": [
    "# Aggregating the data under \"month_wise\"\n",
    "month_wise = final_data.groupby(by=final_data['claim_date'].dt.month)['claim_amount'].sum().reset_index()\n",
    "\n",
    "# Changing the column name\n",
    "month_wise = month_wise.rename(columns={'claim_date':'Month'})\n",
    "\n",
    "# Setting the Index\n",
    "month_wise = month_wise.set_index('Month')\n",
    "\n",
    "# Creating the plot\n",
    "Total_claim = month_wise.plot(kind='bar',figsize=(15,7))\n",
    "\n",
    "y=['{:,.0f}'.format(x) for x in Total_claim.get_yticks()]\n",
    "\n",
    "Total_claim.set_yticklabels(y)\n",
    "\n",
    "plt.ylabel('Sum of Claim Amount')\n",
    "\n",
    "plt.title('Monthly Total of claim amount')\n",
    "\n",
    "plt.show()"
   ]
  },
  {
   "cell_type": "markdown",
   "id": "2f123410",
   "metadata": {},
   "source": [
    "### What is the average claim amount for gender and age categories and suitably represent the above using a facetted bar chart, one facet that represents fraudulent claims and the other for non-fraudulent claims."
   ]
  },
  {
   "cell_type": "code",
   "execution_count": 33,
   "id": "682c8021",
   "metadata": {},
   "outputs": [],
   "source": [
    "# Aggregating the data under \"data_agg\"\n",
    "data_agg = final_data.groupby(by=['Age_group','gender','fraudulent'])['claim_amount'].agg({'mean'}).reset_index()"
   ]
  },
  {
   "cell_type": "code",
   "execution_count": 34,
   "id": "d1f639e4",
   "metadata": {},
   "outputs": [
    {
     "data": {
      "image/png": "[encoded data removed]",
      "text/plain": [
       "<Figure size 720x360 with 2 Axes>"
      ]
     },
     "metadata": {
      "needs_background": "light"
     },
     "output_type": "display_data"
    }
   ],
   "source": [
    "# plotting the data using a facetted chart\n",
    "plot = sns.FacetGrid(data=data_agg, col='fraudulent',margin_titles=True, height=5)\n",
    "sns.set_palette(\"deep\")\n",
    "hue_order = ['Children','Youth','Adult','Senior']\n",
    "plot.map(sns.barplot,'gender','mean','Age_group',hue_order=hue_order,)\n",
    "plt.legend()\n",
    "plt.ticklabel_format(style='plain', axis='y')\n",
    "plt.show()"
   ]
  },
  {
   "cell_type": "markdown",
   "id": "65ab424f",
   "metadata": {},
   "source": [
    "## Based on the conclusions from exploratory analysis as well as suitable statistical tests, answer the below questions. Please include a detailed write-up on the parameters taken into consideration, the Hypothesis testing steps, conclusion from the p-values and the business implications of the statements."
   ]
  },
  {
   "cell_type": "markdown",
   "id": "185638bf",
   "metadata": {},
   "source": [
    "### Is there any similarity in the amount claimed by males and females?\n",
    "\n",
    "Findings :- As the significance value is greater than 0.05, So we fail to reject to null hypothesis.\n",
    "\n",
    "We can conclude that there is similartity between the amounts claimed by Male & Female"
   ]
  },
  {
   "cell_type": "code",
   "execution_count": 35,
   "id": "d74f9d33",
   "metadata": {},
   "outputs": [],
   "source": [
    "# Aggregating the data under \"Male_claim\" & \"Female_claim\"\n",
    "Male_claim = final_data.loc[final_data['gender'] == 'Male','claim_amount']\n",
    "\n",
    "Female_claim = final_data.loc[final_data['gender'] == 'Female','claim_amount']"
   ]
  },
  {
   "cell_type": "code",
   "execution_count": 37,
   "id": "658cd367",
   "metadata": {},
   "outputs": [
    {
     "name": "stdout",
     "output_type": "stream",
     "text": [
      "F_onewayResult(statistic=0.7829955562662301, pvalue=0.3764242430542767)\n",
      "Ttest_indResult(statistic=0.8848703612768547, pvalue=0.3764242430541366)\n"
     ]
    }
   ],
   "source": [
    "#Ho = u1 = u2\n",
    "#Ha = u1 <> u2\n",
    "\n",
    "# C.I. = 95\n",
    "# P = 0.05\n",
    "\n",
    "# conducting the statistical test required\n",
    "print(stats.f_oneway(Male_claim,Female_claim))\n",
    "print(stats.ttest_ind(Male_claim,Female_claim))"
   ]
  },
  {
   "cell_type": "markdown",
   "id": "e6200b89",
   "metadata": {},
   "source": [
    "### Is there any relationship between age category and segment?\n",
    "\n",
    "Findings :- As Pvalue is greater than 0.05, So we fail to reject the null hypothesis.\n",
    "\n",
    "So there is no relationship between Age group & Segment"
   ]
  },
  {
   "cell_type": "code",
   "execution_count": 38,
   "id": "00283f9a",
   "metadata": {},
   "outputs": [],
   "source": [
    "# Aggregating the data under \"sorted_data\"\n",
    "sorted_data = pd.crosstab(final_data.Age_group,final_data.Segment)"
   ]
  },
  {
   "cell_type": "code",
   "execution_count": 39,
   "id": "3b6c225d",
   "metadata": {},
   "outputs": [
    {
     "name": "stdout",
     "output_type": "stream",
     "text": [
      "The chi square stat is 0.6654696397990999 and the p value is 0.9555179463691874\n"
     ]
    }
   ],
   "source": [
    "#Ho = There is no relation between Age category & segment.\n",
    "#Ha = There is a relation between Age category & segment.\n",
    "\n",
    "# C.I. = 95\n",
    "# P = 0.05\n",
    "\n",
    "# conducting the statistical test required\n",
    "Chi_test = stats.chi2_contingency(sorted_data)\n",
    "\n",
    "print(\"The chi square stat is {} and the p value is {}\".format(Chi_test[0],Chi_test[1]))"
   ]
  },
  {
   "cell_type": "markdown",
   "id": "d3ac9a0d",
   "metadata": {},
   "source": [
    "### The current year has shown a significant rise in claim amounts as compared to 2016-17 fiscal average which was $10,000.\n",
    "\n",
    "Findings:- As Pvalue is greater than 0.05, So we fail to reject the null hypothesis.\n",
    "\n",
    "Therefore we can say that there is arise in claim amounts as compaired to last year of which average claim amount is $10000"
   ]
  },
  {
   "cell_type": "code",
   "execution_count": 40,
   "id": "e0c3a0f1",
   "metadata": {},
   "outputs": [],
   "source": [
    "# Aggregating the data under \"current_year\"\n",
    "current_year = final_data.loc[final_data['claim_date'].dt.year == 2018,'claim_amount']"
   ]
  },
  {
   "cell_type": "code",
   "execution_count": 47,
   "id": "8d01d700",
   "metadata": {},
   "outputs": [
    {
     "name": "stdout",
     "output_type": "stream",
     "text": [
      "The mean of claim amount for current year is 12687.266007597706\n"
     ]
    }
   ],
   "source": [
    "# Getting the Mean for Current data\n",
    "print('The mean of claim amount for current year is',current_year.mean())"
   ]
  },
  {
   "cell_type": "code",
   "execution_count": 48,
   "id": "9ba3e646",
   "metadata": {},
   "outputs": [
    {
     "name": "stdout",
     "output_type": "stream",
     "text": [
      "The T test stat is 4.3712566323904385 and the p value is 1.515517575179911e-05\n"
     ]
    }
   ],
   "source": [
    "#Ho = u1 > 10000\n",
    "#Ha = u1 <= 10000\n",
    "\n",
    "# C.I. = 95\n",
    "# P = 0.05\n",
    "\n",
    "# conducting the statistical test required\n",
    "test = stats.ttest_1samp(current_year,10000)\n",
    "\n",
    "print(\"The T test stat is {} and the p value is {}\".format(test[0],test[1]))"
   ]
  },
  {
   "cell_type": "markdown",
   "id": "f38b3ae4",
   "metadata": {},
   "source": [
    "### Is there any difference between age groups and insurance claims?\n",
    "\n",
    "Findings :- As significance value is greater than 0.05.\n",
    "\n",
    "Therefore we can say that there is a difference between Age group & Insurance claims"
   ]
  },
  {
   "cell_type": "code",
   "execution_count": 43,
   "id": "84adc9c6",
   "metadata": {},
   "outputs": [],
   "source": [
    "# Aggregating the data under \"Youth\",\"Adult\" & \"Senior\"\n",
    "\n",
    "Youth = final_data.loc[final_data['Age_group'] == \"Youth\"]['claim_amount']\n",
    "\n",
    "Adult = final_data.loc[final_data['Age_group'] == \"Adult\"]['claim_amount']\n",
    "\n",
    "Senior = final_data.loc[final_data['Age_group'] == \"Senior\"]['claim_amount']"
   ]
  },
  {
   "cell_type": "code",
   "execution_count": 44,
   "id": "7e709978",
   "metadata": {},
   "outputs": [
    {
     "name": "stdout",
     "output_type": "stream",
     "text": [
      "Average of Youth: 11848.764309173055 | Average of Adult: 12650.741433068226  | Average of Senior: 12284.199842053304\n"
     ]
    }
   ],
   "source": [
    "# Getting the Mean\n",
    "print('Average of Youth:',Youth.mean(),'| Average of Adult:',Adult.mean(),' | Average of Senior:',Senior.mean())           "
   ]
  },
  {
   "cell_type": "code",
   "execution_count": 45,
   "id": "5f33cc82",
   "metadata": {},
   "outputs": [
    {
     "name": "stdout",
     "output_type": "stream",
     "text": [
      "The F/ANOVA test stat is 0.30422099875335984 and the p value is 0.7377613078348753\n"
     ]
    }
   ],
   "source": [
    "#Ho = samples are from same population\n",
    "#Ha = samples are from different population\n",
    "\n",
    "# C.I. = 95\n",
    "# P = 0.05\n",
    "\n",
    "# conducting the statistical test required\n",
    "test = stats.f_oneway(Youth,Adult,Senior)\n",
    "\n",
    "print(\"The F/ANOVA test stat is {} and the p value is {}\".format(test[0],test[1]))"
   ]
  },
  {
   "cell_type": "markdown",
   "id": "e4893768",
   "metadata": {},
   "source": [
    "### Is there any relationship between total number of policy claims and the claimed amount?\n",
    "\n",
    "Findings :- As the Pvalue is higher than 0.05 & we can see that there is a negative correlation.\n",
    "\n",
    "Therefore we can say that Total number of policy claim & claim amount is inversly proptional to each other."
   ]
  },
  {
   "cell_type": "code",
   "execution_count": 46,
   "id": "38417c6f",
   "metadata": {},
   "outputs": [
    {
     "name": "stdout",
     "output_type": "stream",
     "text": [
      "The Spearman correlation is 0.009932140236426657 and the p value is 0.7446280619147078\n",
      "The correlation value between total policy claim & total amount is -0.014291136186627376\n"
     ]
    }
   ],
   "source": [
    "# Ho: No corelation, independant\n",
    "# Ha: variables are related, dependant\n",
    "   \n",
    "# CI: 95%\n",
    "# p: 0.05\n",
    "\n",
    "# conducting the statistical test required\n",
    "test = stats.spearmanr(final_data.total_policy_claims,final_data.claim_amount)\n",
    "test2 = final_data.total_policy_claims.corr(other= final_data.claim_amount)\n",
    "\n",
    "\n",
    "print(\"The Spearman correlation is {} and the p value is {}\".format(test[0],test[1]))\n",
    "print(\"The correlation value between total policy claim & total amount is\",test2)"
   ]
  }
 ],
 "metadata": {
  "kernelspec": {
   "display_name": "Python 3 (ipykernel)",
   "language": "python",
   "name": "python3"
  },
  "language_info": {
   "codemirror_mode": {
    "name": "ipython",
    "version": 3
   },
   "file_extension": ".py",
   "mimetype": "text/x-python",
   "name": "python",
   "nbconvert_exporter": "python",
   "pygments_lexer": "ipython3",
   "version": "3.9.12"
  }
 },
 "nbformat": 4,
 "nbformat_minor": 5
}
